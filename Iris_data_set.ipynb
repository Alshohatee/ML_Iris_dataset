{
 "cells": [
  {
   "cell_type": "markdown",
   "id": "bd93acae",
   "metadata": {},
   "source": [
    "# Predicting classes of the iris"
   ]
  },
  {
   "cell_type": "markdown",
   "id": "dfb5fe6a",
   "metadata": {},
   "source": [
    "The iris dataset has three types of species of the iris flower. The dataset has the measurement of the sepal width, sepal length, petal width, and petal length. I am going to train my model to use the measurement to predict the type of species. In other words, I am going to give the model measurement of the sepal and petal and the model will predict the type of the iris flower. "
   ]
  },
  {
   "cell_type": "code",
   "execution_count": 1,
   "id": "e7427878",
   "metadata": {},
   "outputs": [],
   "source": [
    "# Introduction paragraph to the dataset and overarching data analysis question, such as: \n",
    "#  What are features available with the data?\n",
    "# What is the question you want to answer through analysis?\n",
    "# What preparation of data did you do, if any? And how?\n"
   ]
  },
  {
   "cell_type": "markdown",
   "id": "ed32d4f3",
   "metadata": {},
   "source": [
    "##  Where did you get the data? And how?\n",
    "#### iris data set is imported from sklearn.datasets \n",
    "#### it is imported by\n",
    "from sklearn.datasets import load_iris "
   ]
  },
  {
   "cell_type": "code",
   "execution_count": 33,
   "id": "3af28588",
   "metadata": {},
   "outputs": [],
   "source": [
    "import pandas as pd \n",
    "import numpy as np\n",
    "import matplotlib.pyplot as plt\n",
    "from sklearn.datasets import load_iris \n",
    "from sklearn.model_selection import train_test_split\n",
    "from sklearn.linear_model import LogisticRegression\n",
    "from sklearn.tree import DecisionTreeClassifier\n",
    "from sklearn.neighbors import KNeighborsClassifier\n",
    "from sklearn.metrics import accuracy_score, confusion_matrix, plot_confusion_matrix\n",
    "import seaborn as sns\n",
    "import matplotlib.pyplot as plt\n",
    "%matplotlib inline\n",
    "\n",
    "df = load_iris()"
   ]
  },
  {
   "cell_type": "markdown",
   "id": "4dc6aab8",
   "metadata": {},
   "source": [
    " ## What are features available with the data?\n",
    " The features are sepal length (cm),\tsepal width (cm),\tpetal length (cm),\tpetal width (cm), and\ttarget. "
   ]
  },
  {
   "cell_type": "code",
   "execution_count": 34,
   "id": "9e0900a1",
   "metadata": {},
   "outputs": [
    {
     "name": "stdout",
     "output_type": "stream",
     "text": [
      "['sepal length (cm)', 'sepal width (cm)', 'petal length (cm)', 'petal width (cm)']\n"
     ]
    }
   ],
   "source": [
    "# printing the columns (features) that iris dataset have\n",
    "print (df.feature_names)"
   ]
  },
  {
   "cell_type": "markdown",
   "id": "1dd1e85a",
   "metadata": {},
   "source": [
    "understanding the target and what each value in the taget represent\n"
   ]
  },
  {
   "cell_type": "code",
   "execution_count": 40,
   "id": "a37b3af8",
   "metadata": {},
   "outputs": [
    {
     "data": {
      "text/plain": [
       "array(['setosa', 'versicolor', 'virginica'], dtype='<U10')"
      ]
     },
     "execution_count": 40,
     "metadata": {},
     "output_type": "execute_result"
    }
   ],
   "source": [
    "# printing what are the target names\n",
    "df.target_names"
   ]
  },
  {
   "cell_type": "markdown",
   "id": "3ac0907e",
   "metadata": {},
   "source": [
    "from the previous output we see that \n",
    "setosa = 0\n",
    "versicolor = 1 \n",
    "virginica  = 2"
   ]
  },
  {
   "cell_type": "code",
   "execution_count": 3,
   "id": "f6879d3a",
   "metadata": {},
   "outputs": [
    {
     "data": {
      "text/html": [
       "<div>\n",
       "<style scoped>\n",
       "    .dataframe tbody tr th:only-of-type {\n",
       "        vertical-align: middle;\n",
       "    }\n",
       "\n",
       "    .dataframe tbody tr th {\n",
       "        vertical-align: top;\n",
       "    }\n",
       "\n",
       "    .dataframe thead th {\n",
       "        text-align: right;\n",
       "    }\n",
       "</style>\n",
       "<table border=\"1\" class=\"dataframe\">\n",
       "  <thead>\n",
       "    <tr style=\"text-align: right;\">\n",
       "      <th></th>\n",
       "      <th>sepal length (cm)</th>\n",
       "      <th>sepal width (cm)</th>\n",
       "      <th>petal length (cm)</th>\n",
       "      <th>petal width (cm)</th>\n",
       "      <th>target</th>\n",
       "    </tr>\n",
       "  </thead>\n",
       "  <tbody>\n",
       "    <tr>\n",
       "      <th>0</th>\n",
       "      <td>5.1</td>\n",
       "      <td>3.5</td>\n",
       "      <td>1.4</td>\n",
       "      <td>0.2</td>\n",
       "      <td>0</td>\n",
       "    </tr>\n",
       "    <tr>\n",
       "      <th>1</th>\n",
       "      <td>4.9</td>\n",
       "      <td>3.0</td>\n",
       "      <td>1.4</td>\n",
       "      <td>0.2</td>\n",
       "      <td>0</td>\n",
       "    </tr>\n",
       "    <tr>\n",
       "      <th>2</th>\n",
       "      <td>4.7</td>\n",
       "      <td>3.2</td>\n",
       "      <td>1.3</td>\n",
       "      <td>0.2</td>\n",
       "      <td>0</td>\n",
       "    </tr>\n",
       "    <tr>\n",
       "      <th>3</th>\n",
       "      <td>4.6</td>\n",
       "      <td>3.1</td>\n",
       "      <td>1.5</td>\n",
       "      <td>0.2</td>\n",
       "      <td>0</td>\n",
       "    </tr>\n",
       "    <tr>\n",
       "      <th>4</th>\n",
       "      <td>5.0</td>\n",
       "      <td>3.6</td>\n",
       "      <td>1.4</td>\n",
       "      <td>0.2</td>\n",
       "      <td>0</td>\n",
       "    </tr>\n",
       "  </tbody>\n",
       "</table>\n",
       "</div>"
      ],
      "text/plain": [
       "   sepal length (cm)  sepal width (cm)  petal length (cm)  petal width (cm)  \\\n",
       "0                5.1               3.5                1.4               0.2   \n",
       "1                4.9               3.0                1.4               0.2   \n",
       "2                4.7               3.2                1.3               0.2   \n",
       "3                4.6               3.1                1.5               0.2   \n",
       "4                5.0               3.6                1.4               0.2   \n",
       "\n",
       "   target  \n",
       "0       0  \n",
       "1       0  \n",
       "2       0  \n",
       "3       0  \n",
       "4       0  "
      ]
     },
     "execution_count": 3,
     "metadata": {},
     "output_type": "execute_result"
    }
   ],
   "source": [
    "# sklearn expect to get the target and the resposes as separaet objects\n",
    "data = pd.DataFrame(df['data'], columns= df['feature_names'])\n",
    "data['target']= df['target']\n",
    "# show sample of the data in dataset (first five rows)\n",
    "data.head()"
   ]
  },
  {
   "cell_type": "code",
   "execution_count": 4,
   "id": "a27cf0d6",
   "metadata": {},
   "outputs": [
    {
     "data": {
      "text/plain": [
       "0      0\n",
       "1      0\n",
       "2      0\n",
       "3      0\n",
       "4      0\n",
       "      ..\n",
       "145    2\n",
       "146    2\n",
       "147    2\n",
       "148    2\n",
       "149    2\n",
       "Name: target, Length: 150, dtype: int64"
      ]
     },
     "execution_count": 4,
     "metadata": {},
     "output_type": "execute_result"
    }
   ],
   "source": [
    "#\n",
    "data.target"
   ]
  },
  {
   "cell_type": "code",
   "execution_count": 6,
   "id": "8b6b9524",
   "metadata": {},
   "outputs": [
    {
     "data": {
      "text/plain": [
       "sepal length (cm)    0\n",
       "sepal width (cm)     0\n",
       "petal length (cm)    0\n",
       "petal width (cm)     0\n",
       "target               0\n",
       "dtype: int64"
      ]
     },
     "execution_count": 6,
     "metadata": {},
     "output_type": "execute_result"
    }
   ],
   "source": [
    "# Checking if there is missing values\n",
    "data.isna().sum()"
   ]
  },
  {
   "cell_type": "code",
   "execution_count": 7,
   "id": "55782a23",
   "metadata": {},
   "outputs": [
    {
     "data": {
      "text/plain": [
       "0    50\n",
       "1    50\n",
       "2    50\n",
       "Name: target, dtype: int64"
      ]
     },
     "execution_count": 7,
     "metadata": {},
     "output_type": "execute_result"
    }
   ],
   "source": [
    "data.target.value_counts()"
   ]
  },
  {
   "cell_type": "code",
   "execution_count": 8,
   "id": "94770708",
   "metadata": {},
   "outputs": [],
   "source": [
    "# breaking the data test\n",
    "\n",
    "# training: 80 - 80 train\n",
    "#               \\20 validation\n",
    "# testing: 20 \n",
    "\n",
    "x = data.drop('target', axis=1)\n",
    "y = data['target']\n",
    "\n",
    "x_all, x_hold, y_all, y_hold =  train_test_split(x, y)\n",
    "x_train, x_test, y_train, y_test =  train_test_split(x_all, y_all)"
   ]
  },
  {
   "cell_type": "code",
   "execution_count": 9,
   "id": "135f6f31",
   "metadata": {},
   "outputs": [
    {
     "name": "stdout",
     "output_type": "stream",
     "text": [
      "<class 'pandas.core.frame.DataFrame'>\n",
      "RangeIndex: 150 entries, 0 to 149\n",
      "Data columns (total 5 columns):\n",
      " #   Column             Non-Null Count  Dtype  \n",
      "---  ------             --------------  -----  \n",
      " 0   sepal length (cm)  150 non-null    float64\n",
      " 1   sepal width (cm)   150 non-null    float64\n",
      " 2   petal length (cm)  150 non-null    float64\n",
      " 3   petal width (cm)   150 non-null    float64\n",
      " 4   target             150 non-null    int64  \n",
      "dtypes: float64(4), int64(1)\n",
      "memory usage: 6.0 KB\n"
     ]
    }
   ],
   "source": [
    "data.info()\n"
   ]
  },
  {
   "cell_type": "code",
   "execution_count": 10,
   "id": "26cd7bbf",
   "metadata": {},
   "outputs": [
    {
     "name": "stdout",
     "output_type": "stream",
     "text": [
      "<class 'pandas.core.frame.DataFrame'>\n",
      "RangeIndex: 150 entries, 0 to 149\n",
      "Data columns (total 6 columns):\n",
      " #   Column             Non-Null Count  Dtype  \n",
      "---  ------             --------------  -----  \n",
      " 0   sepal length (cm)  150 non-null    float64\n",
      " 1   sepal width (cm)   150 non-null    float64\n",
      " 2   petal length (cm)  150 non-null    float64\n",
      " 3   petal width (cm)   150 non-null    float64\n",
      " 4   target             150 non-null    int64  \n",
      " 5   traget             150 non-null    object \n",
      "dtypes: float64(4), int64(1), object(1)\n",
      "memory usage: 7.2+ KB\n"
     ]
    }
   ],
   "source": [
    "data['traget'] = data['target'].map(str)\n",
    "data.info()\n"
   ]
  },
  {
   "cell_type": "markdown",
   "id": "aedf4e48",
   "metadata": {},
   "source": [
    "Use three different algorithms from Scikit-Learn\n",
    "Paragraph briefly explaining algorithm and another paragraph on results of each model\n"
   ]
  },
  {
   "cell_type": "markdown",
   "id": "8f7e1c15",
   "metadata": {},
   "source": [
    "### model1 - LogisticRegression\n"
   ]
  },
  {
   "cell_type": "code",
   "execution_count": 11,
   "id": "dad69727",
   "metadata": {},
   "outputs": [],
   "source": [
    "\n",
    "model1 = LogisticRegression(multi_class='auto').fit(x_train, y_train)\n",
    "\n"
   ]
  },
  {
   "cell_type": "code",
   "execution_count": 12,
   "id": "5ceb5ae1",
   "metadata": {},
   "outputs": [],
   "source": [
    "y_hat_test= model1.predict(x_test)\n",
    "y_hat_train= model1.predict(x_train)"
   ]
  },
  {
   "cell_type": "code",
   "execution_count": 13,
   "id": "23b5b2f8",
   "metadata": {},
   "outputs": [
    {
     "name": "stdout",
     "output_type": "stream",
     "text": [
      "Number of values correctly predicted:\n",
      "True     81\n",
      "False     3\n",
      "Name: target, dtype: int64\n"
     ]
    }
   ],
   "source": [
    "residuals = y_train == y_hat_train\n",
    "print('Number of values correctly predicted:')\n",
    "print(pd.Series(residuals).value_counts())"
   ]
  },
  {
   "cell_type": "code",
   "execution_count": 14,
   "id": "12507ebc",
   "metadata": {},
   "outputs": [
    {
     "name": "stdout",
     "output_type": "stream",
     "text": [
      "Number of values correctly predicted: \n",
      "True    28\n",
      "Name: target, dtype: int64\n"
     ]
    }
   ],
   "source": [
    "residuals = y_test == y_hat_test\n",
    "\n",
    "print('Number of values correctly predicted: ')\n",
    "print(pd.Series(residuals).value_counts())"
   ]
  },
  {
   "cell_type": "code",
   "execution_count": 15,
   "id": "d87c003b",
   "metadata": {},
   "outputs": [
    {
     "data": {
      "text/plain": [
       "1.0"
      ]
     },
     "execution_count": 15,
     "metadata": {},
     "output_type": "execute_result"
    }
   ],
   "source": [
    "accuracy_score(y_test, y_hat_test)\n"
   ]
  },
  {
   "cell_type": "code",
   "execution_count": 16,
   "id": "70544559",
   "metadata": {},
   "outputs": [
    {
     "data": {
      "text/plain": [
       "0.9642857142857143"
      ]
     },
     "execution_count": 16,
     "metadata": {},
     "output_type": "execute_result"
    }
   ],
   "source": [
    "accuracy_score(y_train, y_hat_train)"
   ]
  },
  {
   "cell_type": "code",
   "execution_count": 17,
   "id": "b31fb06b",
   "metadata": {},
   "outputs": [
    {
     "data": {
      "text/plain": [
       "<Figure size 720x720 with 0 Axes>"
      ]
     },
     "metadata": {},
     "output_type": "display_data"
    },
    {
     "data": {
      "image/png": "[encoded data removed]",
      "text/plain": [
       "<Figure size 432x288 with 2 Axes>"
      ]
     },
     "metadata": {
      "needs_background": "light"
     },
     "output_type": "display_data"
    },
    {
     "data": {
      "text/plain": [
       "(<function sklearn.metrics._classification.confusion_matrix(y_true, y_pred, *, labels=None, sample_weight=None, normalize=None)>,\n",
       " <function sklearn.metrics._plot.confusion_matrix.plot_confusion_matrix(estimator, X, y_true, *, labels=None, sample_weight=None, normalize=None, display_labels=None, include_values=True, xticks_rotation='horizontal', values_format=None, cmap='viridis', ax=None, colorbar=True)>)"
      ]
     },
     "execution_count": 17,
     "metadata": {},
     "output_type": "execute_result"
    }
   ],
   "source": [
    "plt.figure(figsize =(10,10))\n",
    "plot_confusion_matrix(model1, x_test, y_test,\n",
    "                     cmap=plt.cm.Blues,normalize='true')\n",
    "\n",
    "plt.xticks(rotation=45, horizontalalignment='right', fontsize='small')\n",
    "plt.show()\n",
    "\n",
    "confusion_matrix, plot_confusion_matrix,"
   ]
  },
  {
   "cell_type": "markdown",
   "id": "1777eb8b",
   "metadata": {},
   "source": [
    "### model2 - DecisionTreeClassifier\n",
    "\n"
   ]
  },
  {
   "cell_type": "code",
   "execution_count": 18,
   "id": "468bb2a5",
   "metadata": {},
   "outputs": [
    {
     "data": {
      "text/plain": [
       "array([1, 2, 2, 0, 0, 0, 2, 0, 2, 2, 0, 1, 1, 0, 1, 1, 2, 2, 0, 0, 0, 0,\n",
       "       0, 0, 0, 0, 2, 0])"
      ]
     },
     "execution_count": 18,
     "metadata": {},
     "output_type": "execute_result"
    }
   ],
   "source": [
    "model2 = DecisionTreeClassifier(random_state=0).fit(x_train, y_train)\n",
    "model2.predict(x_test)\n"
   ]
  },
  {
   "cell_type": "code",
   "execution_count": 19,
   "id": "e6252923",
   "metadata": {},
   "outputs": [],
   "source": [
    "y_hat_test=model1.predict(x_test)\n",
    "y_hat_train= model1.predict(x_train)"
   ]
  },
  {
   "cell_type": "code",
   "execution_count": 20,
   "id": "08add597",
   "metadata": {},
   "outputs": [
    {
     "name": "stdout",
     "output_type": "stream",
     "text": [
      "Number of values correctly predicted:\n",
      "True     81\n",
      "False     3\n",
      "Name: target, dtype: int64\n"
     ]
    }
   ],
   "source": [
    "residuals = y_train == y_hat_train\n",
    "print('Number of values correctly predicted:')\n",
    "print(pd.Series(residuals).value_counts())"
   ]
  },
  {
   "cell_type": "code",
   "execution_count": 21,
   "id": "6b58ca17",
   "metadata": {},
   "outputs": [
    {
     "name": "stdout",
     "output_type": "stream",
     "text": [
      "Number of values correctly predicted: \n",
      "True    28\n",
      "Name: target, dtype: int64\n"
     ]
    }
   ],
   "source": [
    "residuals = y_test == y_hat_test\n",
    "\n",
    "print('Number of values correctly predicted: ')\n",
    "print(pd.Series(residuals).value_counts())"
   ]
  },
  {
   "cell_type": "code",
   "execution_count": 22,
   "id": "07edcbf5",
   "metadata": {},
   "outputs": [
    {
     "data": {
      "text/plain": [
       "1.0"
      ]
     },
     "execution_count": 22,
     "metadata": {},
     "output_type": "execute_result"
    }
   ],
   "source": [
    "accuracy_score(y_test, y_hat_test)"
   ]
  },
  {
   "cell_type": "code",
   "execution_count": 23,
   "id": "7da34cf8",
   "metadata": {},
   "outputs": [
    {
     "data": {
      "text/plain": [
       "0.9642857142857143"
      ]
     },
     "execution_count": 23,
     "metadata": {},
     "output_type": "execute_result"
    }
   ],
   "source": [
    "accuracy_score(y_train, y_hat_train)"
   ]
  },
  {
   "cell_type": "markdown",
   "id": "b1cbc016",
   "metadata": {},
   "source": [
    "### model3 - KNeighborsClassifier\n",
    "\n",
    "\n",
    "\n",
    "\n"
   ]
  },
  {
   "cell_type": "code",
   "execution_count": 24,
   "id": "715a5604",
   "metadata": {},
   "outputs": [
    {
     "data": {
      "text/plain": [
       "array([1, 2, 2, 0, 0, 0, 2, 0, 1, 2, 0, 1, 1, 0, 1, 1, 2, 2, 0, 0, 0, 0,\n",
       "       0, 0, 0, 0, 2, 0])"
      ]
     },
     "execution_count": 24,
     "metadata": {},
     "output_type": "execute_result"
    }
   ],
   "source": [
    "model3 = KNeighborsClassifier(n_neighbors=3).fit(x_train, y_train)\n",
    "model3.predict(x_test)\n"
   ]
  },
  {
   "cell_type": "code",
   "execution_count": 25,
   "id": "30c9939d",
   "metadata": {},
   "outputs": [],
   "source": [
    "y_hat_test=model1.predict(x_test)\n",
    "y_hat_train= model1.predict(x_train)"
   ]
  },
  {
   "cell_type": "code",
   "execution_count": 26,
   "id": "c63b733d",
   "metadata": {},
   "outputs": [
    {
     "name": "stdout",
     "output_type": "stream",
     "text": [
      "Number of values correctly predicted:\n",
      "True     81\n",
      "False     3\n",
      "Name: target, dtype: int64\n"
     ]
    }
   ],
   "source": [
    "residuals = y_train == y_hat_train\n",
    "print('Number of values correctly predicted:')\n",
    "print(pd.Series(residuals).value_counts())"
   ]
  },
  {
   "cell_type": "code",
   "execution_count": 27,
   "id": "e2bb20c3",
   "metadata": {},
   "outputs": [
    {
     "name": "stdout",
     "output_type": "stream",
     "text": [
      "Number of values correctly predicted: \n",
      "True    28\n",
      "Name: target, dtype: int64\n"
     ]
    }
   ],
   "source": [
    "residuals = y_test == y_hat_test\n",
    "\n",
    "print('Number of values correctly predicted: ')\n",
    "print(pd.Series(residuals).value_counts())"
   ]
  },
  {
   "cell_type": "code",
   "execution_count": 28,
   "id": "9cf998ab",
   "metadata": {},
   "outputs": [
    {
     "data": {
      "text/plain": [
       "1.0"
      ]
     },
     "execution_count": 28,
     "metadata": {},
     "output_type": "execute_result"
    }
   ],
   "source": [
    "accuracy_score(y_test, y_hat_test)"
   ]
  },
  {
   "cell_type": "code",
   "execution_count": 29,
   "id": "5e8a35f6",
   "metadata": {},
   "outputs": [
    {
     "data": {
      "text/plain": [
       "0.9642857142857143"
      ]
     },
     "execution_count": 29,
     "metadata": {},
     "output_type": "execute_result"
    }
   ],
   "source": [
    "accuracy_score(y_train, y_hat_train)"
   ]
  },
  {
   "cell_type": "code",
   "execution_count": 30,
   "id": "72a6bc97",
   "metadata": {},
   "outputs": [
    {
     "data": {
      "text/plain": [
       "<AxesSubplot:xlabel='sepal length (cm)', ylabel='sepal width (cm)'>"
      ]
     },
     "execution_count": 30,
     "metadata": {},
     "output_type": "execute_result"
    },
    {
     "data": {
      "image/png": "[encoded data removed]",
      "text/plain": [
       "<Figure size 432x288 with 1 Axes>"
      ]
     },
     "metadata": {
      "needs_background": "light"
     },
     "output_type": "display_data"
    }
   ],
   "source": [
    "# We'll use this to make a scatterplot of the Iris features.\n",
    "data.plot(kind=\"scatter\", x=\"sepal length (cm)\", y=\"sepal width (cm)\")"
   ]
  },
  {
   "cell_type": "code",
   "execution_count": null,
   "id": "4987175d",
   "metadata": {},
   "outputs": [],
   "source": []
  },
  {
   "cell_type": "code",
   "execution_count": null,
   "id": "6c78f362",
   "metadata": {},
   "outputs": [],
   "source": []
  }
 ],
 "metadata": {
  "kernelspec": {
   "display_name": "Python 3.8.0 64-bit",
   "language": "python",
   "name": "python38064biteca0a0784b464ca4b0ab01af0d0027dc"
  },
  "language_info": {
   "codemirror_mode": {
    "name": "ipython",
    "version": 3
   },
   "file_extension": ".py",
   "mimetype": "text/x-python",
   "name": "python",
   "nbconvert_exporter": "python",
   "pygments_lexer": "ipython3",
   "version": "3.9.2"
  }
 },
 "nbformat": 4,
 "nbformat_minor": 5
}
