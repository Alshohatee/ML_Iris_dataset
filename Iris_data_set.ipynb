{
 "cells": [
  {
   "cell_type": "markdown",
   "id": "bd93acae",
   "metadata": {},
   "source": [
    "# Predicting Species of the iris Flower"
   ]
  },
  {
   "cell_type": "markdown",
   "id": "180eb4c7",
   "metadata": {},
   "source": [
    "## Overview \n",
    "The iris dataset has three types of species of the iris flower. The dataset has the measurement of the sepal width, sepal length, petal width, and petal length. I am going to train my model to use the measurement to predict the type of species. In other words, I am going to give the model measurement of the sepal and petal and the model will predict the type of the iris flower. \n",
    "\n",
    "My objective for this project is to create a classification model that can assess the sepal and petal measurements and predict the iris flower type."
   ]
  },
  {
   "cell_type": "markdown",
   "id": "e1cf8b1a",
   "metadata": {},
   "source": [
    "## Data or Dataset\n"
   ]
  },
  {
   "cell_type": "markdown",
   "id": "46a4ae9f",
   "metadata": {},
   "source": [
    "The iris dataset for this project was obtain from sklearn Datesets. About 150 records of sepal and petal measurements are included in the collection. The features represtent the width and length of the sepal and petal. \n",
    "\n",
    "* link to the dataset: \n",
    "https://scikit-learn.org/stable/modules/generated/sklearn.datasets.load_iris.html#sklearn.datasets.load_iris\n",
    "\n",
    "\n",
    "\n"
   ]
  },
  {
   "cell_type": "markdown",
   "id": "ed32d4f3",
   "metadata": {},
   "source": [
    "## Date Improting and Cleaning \n",
    "I am going to import the libraries need for this project and then explore the data and remove duplicate if they are found. "
   ]
  },
  {
   "cell_type": "code",
   "execution_count": 1,
   "id": "3af28588",
   "metadata": {},
   "outputs": [],
   "source": [
    "# Standard Imports\n",
    "import pandas as pd \n",
    "import numpy as np\n",
    "import seaborn as sns\n",
    "import matplotlib.pyplot as plt\n",
    "\n",
    "# Data\n",
    "from sklearn.datasets import load_iris \n",
    "\n",
    "# Models \n",
    "from sklearn.linear_model import LogisticRegression\n",
    "from sklearn.tree import DecisionTreeClassifier\n",
    "from sklearn.neighbors import KNeighborsClassifier\n",
    "\n",
    "# Evaluating the models libs\n",
    "from sklearn.metrics import accuracy_score, recall_score, confusion_matrix, plot_confusion_matrix\n",
    "from sklearn.model_selection import train_test_split, cross_val_score\n",
    "\n",
    "# Transformers (standardization)\n",
    "from sklearn.preprocessing import StandardScaler\n"
   ]
  },
  {
   "cell_type": "markdown",
   "id": "a4452249",
   "metadata": {},
   "source": [
    "## Get the dataset\n",
    "\n",
    "\n"
   ]
  },
  {
   "cell_type": "code",
   "execution_count": 2,
   "id": "b93a7bd9",
   "metadata": {},
   "outputs": [
    {
     "data": {
      "text/html": [
       "<div>\n",
       "<style scoped>\n",
       "    .dataframe tbody tr th:only-of-type {\n",
       "        vertical-align: middle;\n",
       "    }\n",
       "\n",
       "    .dataframe tbody tr th {\n",
       "        vertical-align: top;\n",
       "    }\n",
       "\n",
       "    .dataframe thead th {\n",
       "        text-align: right;\n",
       "    }\n",
       "</style>\n",
       "<table border=\"1\" class=\"dataframe\">\n",
       "  <thead>\n",
       "    <tr style=\"text-align: right;\">\n",
       "      <th></th>\n",
       "      <th>sepal length (cm)</th>\n",
       "      <th>sepal width (cm)</th>\n",
       "      <th>petal length (cm)</th>\n",
       "      <th>petal width (cm)</th>\n",
       "      <th>target</th>\n",
       "    </tr>\n",
       "  </thead>\n",
       "  <tbody>\n",
       "    <tr>\n",
       "      <th>0</th>\n",
       "      <td>5.1</td>\n",
       "      <td>3.5</td>\n",
       "      <td>1.4</td>\n",
       "      <td>0.2</td>\n",
       "      <td>0</td>\n",
       "    </tr>\n",
       "    <tr>\n",
       "      <th>1</th>\n",
       "      <td>4.9</td>\n",
       "      <td>3.0</td>\n",
       "      <td>1.4</td>\n",
       "      <td>0.2</td>\n",
       "      <td>0</td>\n",
       "    </tr>\n",
       "    <tr>\n",
       "      <th>2</th>\n",
       "      <td>4.7</td>\n",
       "      <td>3.2</td>\n",
       "      <td>1.3</td>\n",
       "      <td>0.2</td>\n",
       "      <td>0</td>\n",
       "    </tr>\n",
       "    <tr>\n",
       "      <th>3</th>\n",
       "      <td>4.6</td>\n",
       "      <td>3.1</td>\n",
       "      <td>1.5</td>\n",
       "      <td>0.2</td>\n",
       "      <td>0</td>\n",
       "    </tr>\n",
       "    <tr>\n",
       "      <th>4</th>\n",
       "      <td>5.0</td>\n",
       "      <td>3.6</td>\n",
       "      <td>1.4</td>\n",
       "      <td>0.2</td>\n",
       "      <td>0</td>\n",
       "    </tr>\n",
       "  </tbody>\n",
       "</table>\n",
       "</div>"
      ],
      "text/plain": [
       "   sepal length (cm)  sepal width (cm)  petal length (cm)  petal width (cm)  \\\n",
       "0                5.1               3.5                1.4               0.2   \n",
       "1                4.9               3.0                1.4               0.2   \n",
       "2                4.7               3.2                1.3               0.2   \n",
       "3                4.6               3.1                1.5               0.2   \n",
       "4                5.0               3.6                1.4               0.2   \n",
       "\n",
       "   target  \n",
       "0       0  \n",
       "1       0  \n",
       "2       0  \n",
       "3       0  \n",
       "4       0  "
      ]
     },
     "execution_count": 2,
     "metadata": {},
     "output_type": "execute_result"
    }
   ],
   "source": [
    "# Load the iris from sklearn\n",
    "iris = load_iris()\n",
    "\n",
    "# Sklearn expect to get the target and the resposes as separaet objects\n",
    "# Convert the iris data object into dataframe\n",
    "data = pd.DataFrame(iris['data'], columns= iris['feature_names'])\n",
    "\n",
    "# attach the target column feature\n",
    "data['target']= iris['target']\n",
    "\n",
    "# show sample of the data in dataset (first five rows)\n",
    "data.head()"
   ]
  },
  {
   "cell_type": "markdown",
   "id": "5d1b10ef",
   "metadata": {},
   "source": [
    "### Studying the Dataset\n"
   ]
  },
  {
   "cell_type": "code",
   "execution_count": 3,
   "id": "e44df5e0",
   "metadata": {},
   "outputs": [
    {
     "name": "stdout",
     "output_type": "stream",
     "text": [
      "<class 'pandas.core.frame.DataFrame'>\n",
      "RangeIndex: 150 entries, 0 to 149\n",
      "Data columns (total 5 columns):\n",
      " #   Column             Non-Null Count  Dtype  \n",
      "---  ------             --------------  -----  \n",
      " 0   sepal length (cm)  150 non-null    float64\n",
      " 1   sepal width (cm)   150 non-null    float64\n",
      " 2   petal length (cm)  150 non-null    float64\n",
      " 3   petal width (cm)   150 non-null    float64\n",
      " 4   target             150 non-null    int64  \n",
      "dtypes: float64(4), int64(1)\n",
      "memory usage: 6.0 KB\n",
      "None\n",
      "\n",
      "\n",
      "sepal length (cm)    0\n",
      "sepal width (cm)     0\n",
      "petal length (cm)    0\n",
      "petal width (cm)     0\n",
      "target               0\n",
      "dtype: int64\n",
      "The features are ['sepal length (cm)', 'sepal width (cm)', 'petal length (cm)', 'petal width (cm)']\n"
     ]
    }
   ],
   "source": [
    "# getting the basic information about the dataframe \n",
    "print(data.info())\n",
    "\n",
    "print(end='\\n\\n')\n",
    "\n",
    "# Checking if there is missing values\n",
    "print(data.isna().sum())\n",
    "\n",
    "# printing the features \n",
    "print (\"The features are\" , iris.feature_names)\n"
   ]
  },
  {
   "cell_type": "markdown",
   "id": "3d40bc08",
   "metadata": {},
   "source": [
    "#### Observation\n",
    "* There are four columns or feature of the iris data sets. \n",
    "* There are 150 records. \n",
    "* There are no null values.\n",
    "* The values are of type floats for all features or columns and int for the taget no strings. \n",
    "\n"
   ]
  },
  {
   "cell_type": "code",
   "execution_count": 4,
   "id": "307482cb",
   "metadata": {},
   "outputs": [
    {
     "name": "stdout",
     "output_type": "stream",
     "text": [
      "       sepal length (cm)  sepal width (cm)  petal length (cm)  \\\n",
      "count         150.000000        150.000000         150.000000   \n",
      "mean            5.843333          3.057333           3.758000   \n",
      "std             0.828066          0.435866           1.765298   \n",
      "min             4.300000          2.000000           1.000000   \n",
      "25%             5.100000          2.800000           1.600000   \n",
      "50%             5.800000          3.000000           4.350000   \n",
      "75%             6.400000          3.300000           5.100000   \n",
      "max             7.900000          4.400000           6.900000   \n",
      "\n",
      "       petal width (cm)      target  \n",
      "count        150.000000  150.000000  \n",
      "mean           1.199333    1.000000  \n",
      "std            0.762238    0.819232  \n",
      "min            0.100000    0.000000  \n",
      "25%            0.300000    0.000000  \n",
      "50%            1.300000    1.000000  \n",
      "75%            1.800000    2.000000  \n",
      "max            2.500000    2.000000  \n"
     ]
    }
   ],
   "source": [
    "# See the stats of the data sets such the max and mean and teh max length and width\n",
    "print(data.describe())"
   ]
  },
  {
   "cell_type": "code",
   "execution_count": 5,
   "id": "28064278",
   "metadata": {},
   "outputs": [
    {
     "data": {
      "text/plain": [
       "0    50\n",
       "1    50\n",
       "2    50\n",
       "Name: target, dtype: int64"
      ]
     },
     "execution_count": 5,
     "metadata": {},
     "output_type": "execute_result"
    }
   ],
   "source": [
    "# count how many values  of each species \n",
    "data.target.value_counts()"
   ]
  },
  {
   "cell_type": "markdown",
   "id": "3ac0907e",
   "metadata": {},
   "source": [
    "from the previous output and the sklearn doc, there are 50 of each species.\n",
    "* 0 is the target value for setosa\n",
    "* 1 is the target value for versicolor\n",
    "* 2 is the target value for virginica"
   ]
  },
  {
   "cell_type": "code",
   "execution_count": 6,
   "id": "94770708",
   "metadata": {},
   "outputs": [],
   "source": [
    "# breaking the data test\n",
    "\n",
    "# training: 80 - 80 training\n",
    "#               \\20 validation\n",
    "# testing(predicting): 20 \n",
    "# in other words, there will be three dataset training, validating, and predicting. \n",
    "\n",
    "# features\n",
    "x = data.drop('target', axis=1)\n",
    "# target\n",
    "y = data['target']\n",
    "\n",
    "x_all, x_hold, y_all, y_hold =  train_test_split(x, y)\n",
    "x_train, x_test, y_train, y_test =  train_test_split(x_all, y_all)"
   ]
  },
  {
   "cell_type": "code",
   "execution_count": 7,
   "id": "90c52c04",
   "metadata": {},
   "outputs": [],
   "source": [
    "# Fit a scaler to a training data\n",
    "scaler = StandardScaler()\n",
    "\n",
    "# Fit on training data\n",
    "scaler.fit(x_train)\n",
    "\n",
    "# Tranfroming\n",
    "x_train_scaled = scaler.transform(x_train)\n",
    "x_test_scaled = scaler.transform(x_test)"
   ]
  },
  {
   "cell_type": "markdown",
   "id": "aedf4e48",
   "metadata": {},
   "source": [
    "Use three different algorithms from Scikit-Learn\n",
    "Paragraph briefly explaining algorithm and another paragraph on results of each model\n"
   ]
  },
  {
   "cell_type": "markdown",
   "id": "8f7e1c15",
   "metadata": {},
   "source": [
    "## Model1 - LogisticRegression\n",
    "***\n",
    "I'll begin by utilizing the default parameters built in a Logistic Regression model in sklearn. I chosed Logistic regression beacuse it is commonly used in a linear model for classification. In this approach, the chance characterizing the various responses (targetes) of a single trial is described using a logistic function.\n",
    "***"
   ]
  },
  {
   "cell_type": "code",
   "execution_count": 8,
   "id": "dad69727",
   "metadata": {},
   "outputs": [],
   "source": [
    "model1 = LogisticRegression(multi_class='auto').fit(x_train, y_train)"
   ]
  },
  {
   "cell_type": "markdown",
   "id": "5cb8fcc0",
   "metadata": {},
   "source": [
    "### Predictions"
   ]
  },
  {
   "cell_type": "code",
   "execution_count": 9,
   "id": "5ceb5ae1",
   "metadata": {},
   "outputs": [],
   "source": [
    "#  Predicting one for training and one for testing\n",
    "y_hat_test= model1.predict(x_test)\n",
    "y_hat_train= model1.predict(x_train)"
   ]
  },
  {
   "cell_type": "markdown",
   "id": "ffaa4baa",
   "metadata": {},
   "source": [
    "### Residuals (how many different?)\n",
    "* Training"
   ]
  },
  {
   "cell_type": "code",
   "execution_count": 10,
   "id": "23b5b2f8",
   "metadata": {},
   "outputs": [
    {
     "name": "stdout",
     "output_type": "stream",
     "text": [
      "Number of values correctly predicted:\n",
      "True     83\n",
      "False     1\n",
      "Name: target, dtype: int64\n"
     ]
    }
   ],
   "source": [
    "residuals = y_train == y_hat_train\n",
    "print('Number of values correctly predicted:')\n",
    "print(pd.Series(residuals).value_counts())"
   ]
  },
  {
   "cell_type": "markdown",
   "id": "ef01479c",
   "metadata": {},
   "source": [
    "* Testing"
   ]
  },
  {
   "cell_type": "code",
   "execution_count": 11,
   "id": "12507ebc",
   "metadata": {},
   "outputs": [
    {
     "name": "stdout",
     "output_type": "stream",
     "text": [
      "Number of values correctly predicted:  True    28\n",
      "Name: target, dtype: int64\n",
      "True    28\n",
      "Name: target, dtype: int64\n"
     ]
    }
   ],
   "source": [
    "residuals = y_test == y_hat_test\n",
    "\n",
    "print('Number of values correctly predicted: ', str(pd.Series(residuals).value_counts()))\n",
    "print(pd.Series(residuals).value_counts())"
   ]
  },
  {
   "cell_type": "markdown",
   "id": "a12ae675",
   "metadata": {},
   "source": [
    "### Accuracy Score\n",
    "* Testing"
   ]
  },
  {
   "cell_type": "code",
   "execution_count": 12,
   "id": "d87c003b",
   "metadata": {},
   "outputs": [
    {
     "data": {
      "text/plain": [
       "1.0"
      ]
     },
     "execution_count": 12,
     "metadata": {},
     "output_type": "execute_result"
    }
   ],
   "source": [
    "#  Accuracy score for testing\n",
    "accuracy_score(y_test, y_hat_test)\n"
   ]
  },
  {
   "cell_type": "markdown",
   "id": "c07dd563",
   "metadata": {},
   "source": [
    "* Training\n"
   ]
  },
  {
   "cell_type": "code",
   "execution_count": 13,
   "id": "70544559",
   "metadata": {},
   "outputs": [
    {
     "data": {
      "text/plain": [
       "0.9880952380952381"
      ]
     },
     "execution_count": 13,
     "metadata": {},
     "output_type": "execute_result"
    }
   ],
   "source": [
    "# Accuracy score for training\n",
    "accuracy_score(y_train, y_hat_train)"
   ]
  },
  {
   "cell_type": "markdown",
   "id": "3d978d00",
   "metadata": {},
   "source": [
    "### Confusion Matrix\n",
    "***\n",
    "This table shows how well the categorization model performs on both sets of data and which true values are recognized.\n"
   ]
  },
  {
   "cell_type": "code",
   "execution_count": 14,
   "id": "b31fb06b",
   "metadata": {},
   "outputs": [
    {
     "data": {
      "text/plain": [
       "<Figure size 720x720 with 0 Axes>"
      ]
     },
     "metadata": {},
     "output_type": "display_data"
    },
    {
     "data": {
      "image/png": "[encoded data removed]",
      "text/plain": [
       "<Figure size 432x288 with 2 Axes>"
      ]
     },
     "metadata": {
      "needs_background": "light"
     },
     "output_type": "display_data"
    }
   ],
   "source": [
    "plt.figure(figsize =(10,10))\n",
    "plot_confusion_matrix(model1, x_test, y_test,\n",
    "                     cmap=plt.cm.Blues,normalize='true')\n",
    "\n",
    "plt.xticks(rotation=45, horizontalalignment='right', fontsize='small')\n",
    "plt.show()\n",
    "\n"
   ]
  },
  {
   "cell_type": "markdown",
   "id": "b34d73fa",
   "metadata": {},
   "source": [
    "### Results of the model\n",
    "***\n",
    "There are only three false (wrong values) in terms of predicting the there is less than 8% overfitting because the testing scoce 0.89 and the traing score 0.96."
   ]
  },
  {
   "cell_type": "markdown",
   "id": "1777eb8b",
   "metadata": {},
   "source": [
    "## model2 - DecisionTreeClassifier\n",
    "***\n",
    "The dataset is divided into smaller groups and a prediction is made using a tree structure. The data is divided between decision nodes, which give the prediction, and leaf nodes, which supply the data.\n",
    "***"
   ]
  },
  {
   "cell_type": "code",
   "execution_count": 15,
   "id": "468bb2a5",
   "metadata": {
    "scrolled": true
   },
   "outputs": [],
   "source": [
    "model2 = DecisionTreeClassifier(random_state=0).fit(x_train, y_train)\n",
    "\n"
   ]
  },
  {
   "cell_type": "markdown",
   "id": "322596e8",
   "metadata": {},
   "source": [
    "### Predictions"
   ]
  },
  {
   "cell_type": "code",
   "execution_count": 16,
   "id": "e6252923",
   "metadata": {},
   "outputs": [],
   "source": [
    "y_hat_test=model1.predict(x_test)\n",
    "y_hat_train= model1.predict(x_train)"
   ]
  },
  {
   "cell_type": "markdown",
   "id": "e14af968",
   "metadata": {},
   "source": [
    "### Residuals (how many different?)\n",
    "* Training"
   ]
  },
  {
   "cell_type": "code",
   "execution_count": 17,
   "id": "08add597",
   "metadata": {},
   "outputs": [
    {
     "name": "stdout",
     "output_type": "stream",
     "text": [
      "Number of values correctly predicted:\n",
      "True     83\n",
      "False     1\n",
      "Name: target, dtype: int64\n"
     ]
    }
   ],
   "source": [
    "residuals = y_train == y_hat_train\n",
    "print('Number of values correctly predicted:')\n",
    "print(pd.Series(residuals).value_counts())"
   ]
  },
  {
   "cell_type": "markdown",
   "id": "07bea021",
   "metadata": {},
   "source": [
    "* Testing"
   ]
  },
  {
   "cell_type": "code",
   "execution_count": 18,
   "id": "6b58ca17",
   "metadata": {},
   "outputs": [
    {
     "name": "stdout",
     "output_type": "stream",
     "text": [
      "Number of values correctly predicted: \n",
      "True    28\n",
      "Name: target, dtype: int64\n"
     ]
    }
   ],
   "source": [
    "residuals = y_test == y_hat_test\n",
    "\n",
    "print('Number of values correctly predicted: ')\n",
    "print(pd.Series(residuals).value_counts())"
   ]
  },
  {
   "cell_type": "markdown",
   "id": "d7f04766",
   "metadata": {},
   "source": [
    "### Accuracy Score\n",
    "* Testing"
   ]
  },
  {
   "cell_type": "code",
   "execution_count": 19,
   "id": "07edcbf5",
   "metadata": {},
   "outputs": [
    {
     "data": {
      "text/plain": [
       "1.0"
      ]
     },
     "execution_count": 19,
     "metadata": {},
     "output_type": "execute_result"
    }
   ],
   "source": [
    "accuracy_score(y_test, y_hat_test)"
   ]
  },
  {
   "cell_type": "markdown",
   "id": "10d6d3ff",
   "metadata": {},
   "source": [
    "* Training"
   ]
  },
  {
   "cell_type": "code",
   "execution_count": 20,
   "id": "7da34cf8",
   "metadata": {},
   "outputs": [
    {
     "data": {
      "text/plain": [
       "0.9880952380952381"
      ]
     },
     "execution_count": 20,
     "metadata": {},
     "output_type": "execute_result"
    }
   ],
   "source": [
    "accuracy_score(y_train, y_hat_train)"
   ]
  },
  {
   "cell_type": "code",
   "execution_count": 21,
   "id": "5293fe94",
   "metadata": {},
   "outputs": [
    {
     "data": {
      "text/plain": [
       "<Figure size 720x720 with 0 Axes>"
      ]
     },
     "metadata": {},
     "output_type": "display_data"
    },
    {
     "data": {
      "image/png": "[encoded data removed]",
      "text/plain": [
       "<Figure size 432x288 with 2 Axes>"
      ]
     },
     "metadata": {
      "needs_background": "light"
     },
     "output_type": "display_data"
    }
   ],
   "source": [
    "plt.figure(figsize =(10,10))\n",
    "plot_confusion_matrix(model2, x_test, y_test,\n",
    "                     cmap=plt.cm.Blues,normalize='true')\n",
    "\n",
    "plt.xticks(rotation=45, horizontalalignment='right', fontsize='small')\n",
    "plt.show()\n"
   ]
  },
  {
   "cell_type": "markdown",
   "id": "d5054416",
   "metadata": {},
   "source": [
    "### Results of the model\n",
    "***\n",
    "There is only 1 false (wrong values) in terms of predicting the there is less than 1.4% overfitting because the testing scoce 1.0 and the traing score 0.98."
   ]
  },
  {
   "cell_type": "markdown",
   "id": "b1cbc016",
   "metadata": {},
   "source": [
    "## Model3 - KNeighborsClassifier\n",
    "*** \n",
    "KNeighborsClassifier compares the distance to the requested point to a predfind number extracted from the training sample and find which one is the closest. \n",
    "***"
   ]
  },
  {
   "cell_type": "code",
   "execution_count": 22,
   "id": "715a5604",
   "metadata": {},
   "outputs": [],
   "source": [
    "model3 = KNeighborsClassifier(n_neighbors=3).fit(x_train, y_train)\n"
   ]
  },
  {
   "cell_type": "markdown",
   "id": "d8a93478",
   "metadata": {},
   "source": [
    "### Predictions"
   ]
  },
  {
   "cell_type": "code",
   "execution_count": 23,
   "id": "30c9939d",
   "metadata": {},
   "outputs": [],
   "source": [
    "y_hat_test=model1.predict(x_test)\n",
    "y_hat_train= model1.predict(x_train)"
   ]
  },
  {
   "cell_type": "markdown",
   "id": "7dd0ad3a",
   "metadata": {},
   "source": [
    "### Residuals (how many different?)\n",
    "* Training"
   ]
  },
  {
   "cell_type": "code",
   "execution_count": 24,
   "id": "c63b733d",
   "metadata": {},
   "outputs": [
    {
     "name": "stdout",
     "output_type": "stream",
     "text": [
      "Number of values correctly predicted:\n",
      "True     83\n",
      "False     1\n",
      "Name: target, dtype: int64\n"
     ]
    }
   ],
   "source": [
    "residuals = y_train == y_hat_train\n",
    "print('Number of values correctly predicted:')\n",
    "print(pd.Series(residuals).value_counts())"
   ]
  },
  {
   "cell_type": "code",
   "execution_count": 25,
   "id": "e2bb20c3",
   "metadata": {},
   "outputs": [
    {
     "name": "stdout",
     "output_type": "stream",
     "text": [
      "Number of values correctly predicted: \n",
      "True    28\n",
      "Name: target, dtype: int64\n"
     ]
    }
   ],
   "source": [
    "residuals = y_test == y_hat_test\n",
    "\n",
    "print('Number of values correctly predicted: ')\n",
    "print(pd.Series(residuals).value_counts())"
   ]
  },
  {
   "cell_type": "markdown",
   "id": "38b7f7f9",
   "metadata": {},
   "source": [
    "### Accuracy Score\n",
    "* Testing"
   ]
  },
  {
   "cell_type": "code",
   "execution_count": 26,
   "id": "9cf998ab",
   "metadata": {},
   "outputs": [
    {
     "data": {
      "text/plain": [
       "1.0"
      ]
     },
     "execution_count": 26,
     "metadata": {},
     "output_type": "execute_result"
    }
   ],
   "source": [
    "accuracy_score(y_test, y_hat_test)"
   ]
  },
  {
   "cell_type": "markdown",
   "id": "b186f1b7",
   "metadata": {},
   "source": [
    "* Training"
   ]
  },
  {
   "cell_type": "code",
   "execution_count": 27,
   "id": "5e8a35f6",
   "metadata": {},
   "outputs": [
    {
     "data": {
      "text/plain": [
       "0.9880952380952381"
      ]
     },
     "execution_count": 27,
     "metadata": {},
     "output_type": "execute_result"
    }
   ],
   "source": [
    "accuracy_score(y_train, y_hat_train)"
   ]
  },
  {
   "cell_type": "code",
   "execution_count": 28,
   "id": "2b1b30d5",
   "metadata": {},
   "outputs": [
    {
     "data": {
      "text/plain": [
       "<Figure size 720x720 with 0 Axes>"
      ]
     },
     "metadata": {},
     "output_type": "display_data"
    },
    {
     "data": {
      "image/png": "[encoded data removed]",
      "text/plain": [
       "<Figure size 432x288 with 2 Axes>"
      ]
     },
     "metadata": {
      "needs_background": "light"
     },
     "output_type": "display_data"
    }
   ],
   "source": [
    "plt.figure(figsize =(10,10))\n",
    "plot_confusion_matrix(model3, x_test, y_test,\n",
    "                     cmap=plt.cm.Blues,normalize='true')\n",
    "\n",
    "plt.xticks(rotation=45, horizontalalignment='right', fontsize='small')\n",
    "plt.show()\n"
   ]
  },
  {
   "cell_type": "markdown",
   "id": "51742acb",
   "metadata": {},
   "source": [
    "### Results of the model\n",
    "***\n",
    "There is only 1 false (wrong values) in terms of predicting the there is less than 1.4% overfitting because the testing scoce 1.0 and the traing score 0.98."
   ]
  },
  {
   "cell_type": "code",
   "execution_count": 29,
   "id": "72a6bc97",
   "metadata": {},
   "outputs": [
    {
     "data": {
      "text/plain": [
       "<AxesSubplot:xlabel='sepal length (cm)', ylabel='sepal width (cm)'>"
      ]
     },
     "execution_count": 29,
     "metadata": {},
     "output_type": "execute_result"
    },
    {
     "data": {
      "image/png": "[encoded data removed]",
      "text/plain": [
       "<Figure size 432x288 with 1 Axes>"
      ]
     },
     "metadata": {
      "needs_background": "light"
     },
     "output_type": "display_data"
    }
   ],
   "source": []
  },
  {
   "cell_type": "markdown",
   "id": "728d252e",
   "metadata": {},
   "source": [
    "### Experience: \n",
    "I learned more about machine learning and how to use its application in the field of classification. I understand now how to break a problem and make connections use machine learning to predicate results base on categorical data.  "
   ]
  },
  {
   "cell_type": "markdown",
   "id": "c6faf9c5",
   "metadata": {},
   "source": [
    "### References\n",
    "* https://scikit-learn.org/stable/modules/generated/sklearn.datasets.load_iris.html#sklearn.datasets.load_iris\n",
    "* https://towardsdatascience.com/the-iris-dataset-a-little-bit-of-history-and-biology-fb4812f5a7b5"
   ]
  },
  {
   "cell_type": "markdown",
   "id": "f6f18208",
   "metadata": {},
   "source": []
  }
 ],
 "metadata": {
  "kernelspec": {
   "display_name": "Python 3.8.0 64-bit",
   "language": "python",
   "name": "python38064biteca0a0784b464ca4b0ab01af0d0027dc"
  },
  "language_info": {
   "codemirror_mode": {
    "name": "ipython",
    "version": 3
   },
   "file_extension": ".py",
   "mimetype": "text/x-python",
   "name": "python",
   "nbconvert_exporter": "python",
   "pygments_lexer": "ipython3",
   "version": "3.9.2"
  }
 },
 "nbformat": 4,
 "nbformat_minor": 5
}
